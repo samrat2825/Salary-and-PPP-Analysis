{
 "cells": [
  {
   "cell_type": "markdown",
   "metadata": {
    "_cell_guid": "98bc0f97-d64d-4f72-8175-725542b679c8",
    "_uuid": "898bf2d1c9b1d3a0a74cd52780242b9e71d5fa4c"
   },
   "source": [
    "# PPP, Salaries and XGBoost ! "
   ]
  },
  {
   "cell_type": "code",
   "execution_count": null,
   "metadata": {
    "_cell_guid": "c4d3b843-af56-41d3-812f-b2ec32815541",
    "_kg_hide-input": true,
    "_kg_hide-output": true,
    "_uuid": "925f999bf1487a2d6e49cb994999a26b38b36aef",
    "collapsed": true
   },
   "outputs": [],
   "source": [
    "import numpy as np # linear algebra\n",
    "import pandas as pd # data processing, CSV file I/O (e.g. pd.read_csv)\n",
    "import matplotlib.pyplot as plt\n",
    "import seaborn as sns\n",
    "sns.set(color_codes=True)\n",
    "\n",
    "import plotly.offline as py\n",
    "py.init_notebook_mode(connected=True)\n",
    "import plotly.graph_objs as go\n",
    "import plotly.tools as tls\n",
    "\n",
    "from subprocess import check_output\n",
    "\n",
    "import xgboost as xgb\n",
    "from sklearn.metrics import mean_squared_log_error as MSLE"
   ]
  },
  {
   "cell_type": "code",
   "execution_count": null,
   "metadata": {
    "_cell_guid": "822e2ebd-1162-415c-9636-7ca3be6493ed",
    "_kg_hide-output": true,
    "_uuid": "8187f65677884f92d822a0d5e562783dc774c723",
    "collapsed": true
   },
   "outputs": [],
   "source": [
    "data = pd.read_csv('../input/multipleChoiceResponses.csv', encoding=\"ISO-8859-1\")\n",
    "\n",
    "#We convert the salaries to numerical values and keep salaries between 1000 and 1.000.000 Local currency\n",
    "data['CompensationAmount'] = data['CompensationAmount'].fillna(0)\n",
    "data['CompensationAmount'] = data.CompensationAmount.apply(lambda x: 0 if (pd.isnull(x) or (x=='-') or (x==0))\n",
    "                                                       else float(x.replace(',','')))\n",
    "df = data[(data['CompensationAmount']>1000) & (data['CompensationAmount']<2000000)]\n",
    "\n",
    "\n",
    "#We only keep the countries with more than 80 respondents to get significant results later on\n",
    "s_temp = df['Country'].value_counts()\n",
    "s_temp = s_temp[s_temp>80]\n",
    "countries=list(s_temp.index)\n",
    "countries.remove('Other')\n",
    "df=df[df.Country.isin(countries)]\n"
   ]
  },
  {
   "cell_type": "code",
   "execution_count": null,
   "metadata": {
    "_cell_guid": "98e95a67-99b4-460d-98a0-2c77c32d9d31",
    "_uuid": "6d300776ec180eff4a404776a90af1646772fb70",
    "collapsed": true
   },
   "outputs": [],
   "source": [
    "df['CompensationCurrency'] =df.groupby('Country')['CompensationCurrency'].apply(lambda x: x.fillna(x.value_counts().idxmax()))"
   ]
  },
  {
   "cell_type": "code",
   "execution_count": null,
   "metadata": {
    "_cell_guid": "7959be49-4399-489d-bcfb-3777731a905a",
    "_uuid": "290cb4b0837bc5bacf036e3828b1b0433c5f7a76",
    "collapsed": true
   },
   "outputs": [],
   "source": [
    "#The PPP rates\n",
    "rates_ppp={'Countries':['United States','India','United Kingdom','Germany','France','Brazil','Canada','Spain','Australia','Russia','Italy',\"People 's Republic of China\",'Netherlands'],\n",
    "           'Currency':['USD','INR','GBP','EUR','EUR','BRL','CAD','EUR','AUD','RUB','EUR','CNY','EUR'],\n",
    "           'PPP':[1.00,17.7,0.7,0.78,0.81,2.05,1.21,0.66,1.46,25.13,0.74,3.51,0.8]}\n",
    "\n",
    "rates_ppp = pd.DataFrame(data=rates_ppp)\n",
    "rates_ppp\n"
   ]
  },
  {
   "cell_type": "code",
   "execution_count": null,
   "metadata": {
    "_cell_guid": "661e6a04-19e4-4f48-b975-7ee30e167113",
    "_uuid": "ebaeca717b2d666bec10db76fb9d00c397663bf0",
    "collapsed": true
   },
   "outputs": [],
   "source": [
    "#we load the exchange rates that were given by Kaggle a\n",
    "rates_mer=pd.read_csv('../input/conversionRates.csv', encoding=\"ISO-8859-1\")\n",
    "rates_mer.drop('Unnamed: 0',inplace=True,axis=1)\n",
    "\n",
    "rates=rates_ppp.merge(rates_mer,left_on='Currency',right_on='originCountry',how='left')\n",
    "rates['PPP/MER']=rates['PPP']*rates['exchangeRate']\n",
    "\n",
    "#keep the PPP/MER rates plus the 'Countries' column that will be used for the merge\n",
    "rates=rates[['Countries','PPP','PPP/MER']]\n",
    "rates"
   ]
  },
  {
   "cell_type": "code",
   "execution_count": null,
   "metadata": {
    "_cell_guid": "db966e69-3dea-4c8d-889e-af2d936fa3b4",
    "_kg_hide-input": true,
    "_uuid": "54ae422931fc7c00d5ff931d069f59b8b3224a49",
    "collapsed": true
   },
   "outputs": [],
   "source": [
    "df=df.merge(rates_mer,left_on='CompensationCurrency',right_on='originCountry',how='left')\n",
    "df=df.merge(rates,left_on='Country',right_on='Countries',how='left')\n",
    "\n",
    "df['AdjustedSalary']=df['CompensationAmount']*df['exchangeRate']/df['PPP/MER']\n",
    "\n",
    "d_salary = {}\n",
    "for country in df['Country'].value_counts().index :\n",
    "    d_salary[country]=df[df['Country']==country]['AdjustedSalary'].median()\n",
    "    \n",
    "median_wages = pd.DataFrame.from_dict(data=d_salary, orient='index').round(2)\n",
    "median_wages.sort_values(by=list(median_wages),axis=0, ascending=True, inplace=True)\n",
    "ax = median_wages.plot(kind='barh',figsize=(15,8),width=0.7,align='center')\n",
    "ax.legend_.remove()\n",
    "ax.set_title(\"Adjusted incomes over the world\",fontsize=16)\n",
    "ax.set_xlabel(\"Amount\", fontsize=14)\n",
    "ax.set_ylabel(\"Country\", fontsize=14)\n",
    "for tick in ax.get_xticklabels():\n",
    "    tick.set_rotation(0)\n",
    "    tick.set_fontsize(10)\n",
    "plt.tight_layout()\n",
    "\n",
    "plt.show();"
   ]
  },
  {
   "cell_type": "code",
   "execution_count": null,
   "metadata": {
    "_cell_guid": "294072e1-c71e-42db-af4d-6cee97b49089",
    "_kg_hide-input": true,
    "_uuid": "4e987bf468f7fe3a09d7f4fc0ff7120fbde8c8e2",
    "collapsed": true
   },
   "outputs": [],
   "source": [
    "inflations={'Countries':['United States','India','United Kingdom','Germany','France','Brazil','Canada','Spain','Australia','Russia','Italy',\"People 's Republic of China\",'Netherlands'],\n",
    "           'CPI_2013':[106.83,131.98,110.15,105.68,105.01,119.37,105.45,107.21,107.70,121.64,107.20,111.16,107.48],\n",
    "           'CPI_2017':[113.10,162.01,116.51,109.6,107.1,156.73,112.39,109.13,113.48,168.50,108.61,119.75,111.55],\n",
    "           'medians_2013':[15480,615,12399,14098,12445,2247,15181,7284,15026,4129,6874,1786,14450]}\n",
    "\n",
    "rates_inflations = pd.DataFrame(inflations)\n",
    "rates_inflations['adjusted_medians']=(rates_inflations['medians_2013']*rates_inflations['CPI_2017']/rates_inflations['CPI_2013']).round(2)\n",
    "rates_inflations"
   ]
  },
  {
   "cell_type": "code",
   "execution_count": null,
   "metadata": {
    "_cell_guid": "803b667e-ad4a-4dac-999b-f8ff9d8addfb",
    "_kg_hide-input": true,
    "_kg_hide-output": true,
    "_uuid": "56876d0dd83091c7c21188173e7d3de3a726be42",
    "collapsed": true
   },
   "outputs": [],
   "source": [
    "tmp=median_wages.reset_index()\n",
    "tmp = tmp.rename(columns={'index': 'Country', 0: 'median_income'})\n",
    "\n",
    "rates_inflations=rates_inflations.merge(tmp,left_on='Countries',right_on='Country',how='left')\n",
    "rates_inflations['ratio_incomes']=(rates_inflations['median_income']/rates_inflations['adjusted_medians']).round(2)\n",
    "\n",
    "tmp2=rates_inflations[['Country','ratio_incomes']]\n",
    "tmp2.sort_values(by='ratio_incomes',axis=0, ascending=True, inplace=True)"
   ]
  },
  {
   "cell_type": "code",
   "execution_count": null,
   "metadata": {
    "_cell_guid": "3e70dd9b-1292-405e-b2e1-65275b4cb5bd",
    "_kg_hide-input": true,
    "_uuid": "923e814dc12b59da2ead8eb948fb0a1a2c3fef5b",
    "collapsed": true
   },
   "outputs": [],
   "source": [
    "tmp2.plot.barh(x='Country',figsize=(12,8))\n",
    "plt.show();"
   ]
  },
  {
   "cell_type": "code",
   "execution_count": null,
   "metadata": {
    "_cell_guid": "0ad23885-9781-4c68-bd94-5a23c90f2b30",
    "_uuid": "0172dec526243c0693eeecb24c9e45dbcc2bd28f",
    "collapsed": true
   },
   "outputs": [],
   "source": [
    "datasets = {'USA' : df[df['Country']=='United States'] , \n",
    "            'Eur+Ca' :df[df.Country.isin(['Australia','Germany','Canada','United Kingdom','Netherlands'])],\n",
    "            'Eur2+Bra+Chi' : df[df.Country.isin(['Spain','France','Brazil',\"People 's Republic of China\",'Italy'])],\n",
    "            'India/Russia' : df[df.Country.isin(['India','Russia'])]}"
   ]
  },
  {
   "cell_type": "markdown",
   "metadata": {
    "_cell_guid": "db015383-6997-4f7c-b181-5456ef4ffb78",
    "_uuid": "92d2e531dea779f4d3a01e81ca9ac21dd6ace1b4"
   },
   "source": [
    "## Methods used at work\n",
    "<a id=\"methods\"></a>"
   ]
  },
  {
   "cell_type": "code",
   "execution_count": null,
   "metadata": {
    "_cell_guid": "cbdbfde1-4eb8-4250-9e43-586e1e1a2eae",
    "_kg_hide-input": true,
    "_uuid": "7783b54b40d0cee0b84a8ee7a2adf495f45bd4cf",
    "collapsed": true
   },
   "outputs": [],
   "source": [
    "methods=['WorkMethodsFrequencyBayesian','WorkMethodsFrequencyNaiveBayes','WorkMethodsFrequencyLogisticRegression',\n",
    "       'WorkMethodsFrequencyDecisionTrees','WorkMethodsFrequencyRandomForests',\n",
    "       'WorkMethodsFrequencyEnsembleMethods','WorkMethodsFrequencyDataVisualization','WorkMethodsFrequencyPCA',\n",
    "       'WorkMethodsFrequencyNLP','WorkMethodsFrequencyNeuralNetworks',\n",
    "       'WorkMethodsFrequencyTextAnalysis',\n",
    "       'WorkMethodsFrequencyRecommenderSystems','WorkMethodsFrequencyKNN','WorkMethodsFrequencySVMs',\n",
    "       'WorkMethodsFrequencyTimeSeriesAnalysis']\n",
    "\n",
    "\n",
    "d_method_countries={} \n",
    "for key, value in datasets.items():\n",
    "    d_method_countries[key]={}\n",
    "    for col in methods : \n",
    "        method = col.split('WorkMethodsFrequency')[1]\n",
    "        d_method_countries[key][method]=value[value[col].isin(['Most of the time','Often'])]['AdjustedSalary'].median()\n",
    "        \n",
    "positions=[(0,0),(1,0),(0,1),(1,1)]\n",
    "f,ax=plt.subplots(nrows=2, ncols=2,figsize=(15,8))\n",
    "for ((key, value), pos) in zip(d_method_countries.items() , positions):\n",
    "    methods = pd.DataFrame.from_dict(data=value, orient='index').round(2)\n",
    "    methods.sort_values(by=list(methods),axis=0, ascending=True, inplace=True)\n",
    "    methods.plot(kind='barh',figsize=(12,8),width=0.7,align='center',ax=ax[pos[0],pos[1]])\n",
    "    ax[pos[0],pos[1]].set_title(key,fontsize=14)\n",
    "    ax[pos[0],pos[1]].legend_.remove()\n",
    "    \n",
    "\n",
    "plt.tight_layout()\n",
    "plt.show();\n",
    "    "
   ]
  },
  {
   "cell_type": "markdown",
   "metadata": {
    "_cell_guid": "4a05f507-dc05-428a-bbd7-805a1d02c0f8",
    "_uuid": "8fe62b457dda70c0a426faa4d6efe926e11c21c5"
   },
   "source": [
    "## Tools and programming languages used at work\n",
    "<a id=\"tools\"></a>"
   ]
  },
  {
   "cell_type": "code",
   "execution_count": null,
   "metadata": {
    "_cell_guid": "8fadb534-098e-4473-a689-e66dc27bac06",
    "_kg_hide-input": true,
    "_uuid": "147f51dea4bdb066eb4c3ae720c36216a82f8d41",
    "collapsed": true
   },
   "outputs": [],
   "source": [
    "tools=['WorkToolsFrequencyC','WorkToolsFrequencyJava','WorkToolsFrequencyMATLAB',\n",
    "       'WorkToolsFrequencyPython','WorkToolsFrequencyR','WorkToolsFrequencyTensorFlow',\n",
    "       'WorkToolsFrequencyHadoop','WorkToolsFrequencySpark','WorkToolsFrequencySQL',\n",
    "       'WorkToolsFrequencyNoSQL','WorkToolsFrequencyExcel','WorkToolsFrequencyTableau',\n",
    "       'WorkToolsFrequencyJupyter','WorkToolsFrequencyAWS',\n",
    "       'WorkToolsFrequencySASBase','WorkToolsFrequencyUnix']\n",
    "\n",
    "d_tools_countries={} \n",
    "for key, value in datasets.items():\n",
    "    d_tools_countries[key]={}\n",
    "    for col in tools : \n",
    "        tool = col.split('WorkToolsFrequency')[1]\n",
    "        d_tools_countries[key][tool]=value[value[col].isin(['Most of the time','Often'])]['AdjustedSalary'].median()\n",
    "        \n",
    "positions=[(0,0),(1,0),(0,1),(1,1)]\n",
    "f,ax=plt.subplots(nrows=2, ncols=2,figsize=(15,8))\n",
    "for ((key, value), pos) in zip(d_tools_countries.items() , positions):\n",
    "    tools = pd.DataFrame.from_dict(data=value, orient='index').round(2)\n",
    "    tools.sort_values(by=list(methods),axis=0, ascending=True, inplace=True)\n",
    "    tools.plot(kind='barh',figsize=(12,8),width=0.7,align='center',ax=ax[pos[0],pos[1]])\n",
    "    ax[pos[0],pos[1]].set_title(key,fontsize=14)\n",
    "    ax[pos[0],pos[1]].legend_.remove()\n",
    "    \n",
    "\n",
    "plt.tight_layout()\n",
    "plt.show();\n",
    "        "
   ]
  },
  {
   "cell_type": "markdown",
   "metadata": {
    "_cell_guid": "4029c0a6-85f0-4192-a569-9dd1b6175865",
    "_kg_hide-input": false,
    "_uuid": "9c6691040fdbb1fe8baf65698068fd3ef5446cf3"
   },
   "source": [
    "## Job titles\n",
    "<a id=\"titles\"></a>"
   ]
  },
  {
   "cell_type": "code",
   "execution_count": null,
   "metadata": {
    "_cell_guid": "05ccb546-b819-41ce-98a3-d8021521637a",
    "_kg_hide-input": true,
    "_uuid": "defaca5f6d92f88c75d7bceff153f28199021860",
    "collapsed": true
   },
   "outputs": [],
   "source": [
    "titles=list(df['CurrentJobTitleSelect'].value_counts().index)\n",
    "d_titles_countries={} \n",
    "for key, value in datasets.items():\n",
    "    d_titles_countries[key]={}\n",
    "    for title in titles : \n",
    "        d_titles_countries[key][title]=value[value['CurrentJobTitleSelect']==title]['AdjustedSalary'].median()\n",
    "        \n",
    "positions=[(0,0),(1,0),(0,1),(1,1)]\n",
    "f,ax=plt.subplots(nrows=2, ncols=2,figsize=(15,8))\n",
    "for ((key, value), pos) in zip(d_titles_countries.items() , positions):\n",
    "    tools = pd.DataFrame.from_dict(data=value, orient='index').round(2)\n",
    "    tools.sort_values(by=list(methods),axis=0, ascending=True, inplace=True)\n",
    "    tools.plot(kind='barh',figsize=(12,8),width=0.7,align='center',ax=ax[pos[0],pos[1]])\n",
    "    ax[pos[0],pos[1]].set_title(key,fontsize=14)\n",
    "    ax[pos[0],pos[1]].legend_.remove()\n",
    "    \n",
    "\n",
    "plt.tight_layout()\n",
    "plt.show();"
   ]
  },
  {
   "cell_type": "markdown",
   "metadata": {
    "_cell_guid": "19d50806-c064-4e1a-8bd9-6e3f304184be",
    "_uuid": "d37b2ecee9d73dad0a9f5acf1e02b72736d8db95"
   },
   "source": [
    "## Job Functions\n",
    "<a id=\"functions\"></a>"
   ]
  },
  {
   "cell_type": "code",
   "execution_count": null,
   "metadata": {
    "_cell_guid": "972cd081-d394-4b95-84b1-5cf2d3f392c9",
    "_kg_hide-input": true,
    "_uuid": "30a7c2f613870598350e2262b81dc9987178836a",
    "collapsed": true
   },
   "outputs": [],
   "source": [
    "func = list(df['JobFunctionSelect'].value_counts().index)\n",
    "tmp = df\n",
    "tmp=tmp.replace(to_replace=func, value=['Analyze data','Build a ML service','Build prototypes',\n",
    "                                        'Build the Data Infrastructure','Other','Research'])\n",
    "\n",
    "datasets_tmp = {'USA' : tmp[tmp['Country']=='United States'] , \n",
    "            'Eur+Ca' :tmp[tmp.Country.isin(['Australia','Germany','Canada','United Kingdom','Netherlands'])],\n",
    "            'Eur2+Bra+Chi' : tmp[tmp.Country.isin(['Spain','France','Brazil',\"People 's Republic of China\",'Italy'])],\n",
    "            'India/Russia' : tmp[tmp.Country.isin(['India','Russia'])]}\n",
    "\n",
    "functions=list(tmp['JobFunctionSelect'].value_counts().index)\n",
    "d_functions_countries={} \n",
    "for key, value in datasets_tmp.items():\n",
    "    d_functions_countries[key]={}\n",
    "    for function in functions : \n",
    "        d_functions_countries[key][function]=value[value['JobFunctionSelect']==function]['AdjustedSalary'].median()\n",
    "        \n",
    "positions=[(0,0),(1,0),(0,1),(1,1)]\n",
    "f,ax=plt.subplots(nrows=2, ncols=2,figsize=(15,8))\n",
    "for ((key, value), pos) in zip(d_functions_countries.items() , positions):\n",
    "    tools = pd.DataFrame.from_dict(data=value, orient='index').round(2)\n",
    "    tools.sort_values(by=list(methods),axis=0, ascending=True, inplace=True)\n",
    "    tools.plot(kind='barh',figsize=(15,8),width=0.7,align='center',ax=ax[pos[0],pos[1]])\n",
    "    ax[pos[0],pos[1]].set_title(key,fontsize=14)\n",
    "    ax[pos[0],pos[1]].legend_.remove()\n",
    "    \n",
    "plt.tight_layout()\n",
    "plt.show();"
   ]
  }
 ],
 "metadata": {
  "kernelspec": {
   "display_name": "Python 3",
   "language": "python",
   "name": "python3"
  },
  "language_info": {
   "codemirror_mode": {
    "name": "ipython",
    "version": 3
   },
   "file_extension": ".py",
   "mimetype": "text/x-python",
   "name": "python",
   "nbconvert_exporter": "python",
   "pygments_lexer": "ipython3",
   "version": "3.8.3"
  }
 },
 "nbformat": 4,
 "nbformat_minor": 1
}
